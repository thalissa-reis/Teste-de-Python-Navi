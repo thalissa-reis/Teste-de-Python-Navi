{
 "cells": [
  {
   "cell_type": "markdown",
   "metadata": {},
   "source": [
    "# Teste de Python"
   ]
  },
  {
   "cell_type": "code",
   "execution_count": 1,
   "metadata": {},
   "outputs": [],
   "source": [
    "import numpy as np"
   ]
  },
  {
   "cell_type": "markdown",
   "metadata": {},
   "source": [
    "## Primeiro Teste"
   ]
  },
  {
   "cell_type": "code",
   "execution_count": 2,
   "metadata": {},
   "outputs": [
    {
     "name": "stdout",
     "output_type": "stream",
     "text": [
      "Existem 1378 números pares, múltiplos de 49 e 37 entre 1 e 5.000.000\n"
     ]
    }
   ],
   "source": [
    "count = 0\n",
    "for i in range(1,5000000):\n",
    "    if i % 2 == 0 and i % 37 == 0 and i % 49 == 0:\n",
    "        count +=1\n",
    "print(\"Existem\",count,\"números pares, múltiplos de 49 e 37 entre 1 e 5.000.000\")"
   ]
  },
  {
   "cell_type": "markdown",
   "metadata": {},
   "source": [
    "## Segundo Teste"
   ]
  },
  {
   "cell_type": "code",
   "execution_count": 3,
   "metadata": {},
   "outputs": [
    {
     "name": "stdout",
     "output_type": "stream",
     "text": [
      "Vetor = [8, 2.0, 23, 12.39444915467244, 249, 38.4377516497364, 5769, 135.78364059622126, 288801, 520.7888983093449]\n"
     ]
    }
   ],
   "source": [
    "#Função auxiliar para cálculo do fatorial\n",
    "def fatorial(n):\n",
    "    fat = 1\n",
    "    num = n\n",
    "    while num > 1:\n",
    "        fat = fat * num\n",
    "        num = num - 1\n",
    "    return fat\n",
    "\n",
    "#Construção do Vetor\n",
    "vetor = []\n",
    "for i in range(10):\n",
    "    vetor.append(0)\n",
    "for i in range(len(vetor)):\n",
    "    if i % 2 == 0:\n",
    "      vetor[i] = 3**i + 7 * fatorial(i)\n",
    "    else:\n",
    "        vetor[i] = 2**i + 4* np.log(i)\n",
    "print(\"Vetor =\", vetor)"
   ]
  },
  {
   "cell_type": "code",
   "execution_count": 4,
   "metadata": {},
   "outputs": [
    {
     "name": "stdout",
     "output_type": "stream",
     "text": [
      "A posição do maior elemento do vetor é 8\n"
     ]
    }
   ],
   "source": [
    "#Posição do maior elemento\n",
    "maior_valor = max(vetor)\n",
    "posicao_maior_valor = vetor.index(maior_valor)\n",
    "print(\"A posição do maior elemento do vetor é\", posicao_maior_valor)"
   ]
  },
  {
   "cell_type": "code",
   "execution_count": 5,
   "metadata": {},
   "outputs": [
    {
     "name": "stdout",
     "output_type": "stream",
     "text": [
      "A média dos elementos contidos nesse vetor é 29555.94\n"
     ]
    }
   ],
   "source": [
    "#Média dos elementos do vetor\n",
    "soma = 0\n",
    "for elemento in vetor:\n",
    "    soma += elemento\n",
    "media = round((soma / len(vetor)), 2)\n",
    "print(\"A média dos elementos contidos nesse vetor é\", media)"
   ]
  },
  {
   "cell_type": "markdown",
   "metadata": {},
   "source": [
    "## Terceiro Teste\n",
    "Para esse teste, foram considerados 2 cenários, considerando diferentes interações com o usuário."
   ]
  },
  {
   "cell_type": "markdown",
   "metadata": {},
   "source": [
    "1. Construção do dicionário considerando que as notas dos alunos seriam inseridas como uma lista de strings do tipo: [\"Ana 9.0\", \"João 8.5\"]:"
   ]
  },
  {
   "cell_type": "code",
   "execution_count": 6,
   "metadata": {},
   "outputs": [],
   "source": [
    "def dicionario_notas(lista):\n",
    "    dicionario = {}\n",
    "    for i in range(len(lista)):\n",
    "        lista[i] = lista[i].split(\" \") \n",
    "    for i in range(len(lista)):\n",
    "        for j in range(len(lista[i])):\n",
    "            if j % 2 == 0:\n",
    "                nome = lista[i][j] \n",
    "            else:\n",
    "                nota = float(lista[i][j])\n",
    "        dicionario[nome] = nota\n",
    "    return dicionario"
   ]
  },
  {
   "cell_type": "markdown",
   "metadata": {},
   "source": [
    "Obs.: Caso as strings fossem do tipo \"Rafaela:9.0\", bastaria trocar o argumento da função .split() para \":\" ou outro separador que fosse utilizado entre o nome e a nota."
   ]
  },
  {
   "cell_type": "markdown",
   "metadata": {},
   "source": [
    "Função para descobrir o aluno com a maior nota e sua respectiva nota:"
   ]
  },
  {
   "cell_type": "code",
   "execution_count": 7,
   "metadata": {},
   "outputs": [],
   "source": [
    "def maior_nota(dicionario):\n",
    "    aluno = max(dicionario, key = lambda k: dicionario[k])\n",
    "    nota = dicionario[aluno]\n",
    "    print(\"O aluno com a maior nota foi %s com nota %d\" % (aluno,nota))"
   ]
  },
  {
   "cell_type": "markdown",
   "metadata": {},
   "source": [
    "Exemplo de aplicação:"
   ]
  },
  {
   "cell_type": "code",
   "execution_count": 8,
   "metadata": {},
   "outputs": [
    {
     "data": {
      "text/plain": [
       "{'Ana': 9.0, 'João': 8.5, 'Maria': 7.6, 'José': 8.2, 'Pedro': 8.0}"
      ]
     },
     "execution_count": 8,
     "metadata": {},
     "output_type": "execute_result"
    }
   ],
   "source": [
    "dicionario_notas([\"Ana 9.0\", \"João 8.5\", \"Maria 7.6\", \"José 8.2\", \"Pedro 8.0\"])"
   ]
  },
  {
   "cell_type": "code",
   "execution_count": 9,
   "metadata": {},
   "outputs": [
    {
     "name": "stdout",
     "output_type": "stream",
     "text": [
      "O aluno com a maior nota foi Ana com nota 9\n"
     ]
    }
   ],
   "source": [
    "maior_nota(dicionario_notas([\"Ana 9.0\", \"João 8.5\", \"Maria 7.6\", \"José 8.2\", \"Pedro 8.0\"]))"
   ]
  },
  {
   "cell_type": "markdown",
   "metadata": {},
   "source": [
    "2. Construção do dicionário considerando que as notas e nomes dos alunos seriam inseridos um a um através de inputs do usuário:"
   ]
  },
  {
   "cell_type": "code",
   "execution_count": 10,
   "metadata": {},
   "outputs": [],
   "source": [
    "def dicionario_notas():\n",
    "    dicionario = {}\n",
    "    for i in range(5):\n",
    "        nome = input(\"Insira o nome do(a) aluno(a):\")\n",
    "        nota = input(\"Insira a nota de %s:\" %nome)\n",
    "        dicionario[nome] = float(nota)\n",
    "    return dicionario"
   ]
  },
  {
   "cell_type": "markdown",
   "metadata": {},
   "source": [
    "Função para descobrir o aluno com a maior nota e sua respectiva nota:"
   ]
  },
  {
   "cell_type": "code",
   "execution_count": 11,
   "metadata": {},
   "outputs": [],
   "source": [
    "def maior_nota(dicionario):\n",
    "    aluno = max(dicionario, key = lambda k: dicionario[k])\n",
    "    nota = dicionario[aluno]\n",
    "    print(\"O aluno com a maior nota foi %s com nota %d\" % (aluno,nota))"
   ]
  },
  {
   "cell_type": "markdown",
   "metadata": {},
   "source": [
    "Exemplo de aplicação:"
   ]
  },
  {
   "cell_type": "code",
   "execution_count": 12,
   "metadata": {},
   "outputs": [
    {
     "name": "stdout",
     "output_type": "stream",
     "text": [
      "Insira o nome do(a) aluno(a):Ana\n",
      "Insira a nota de Ana:9.0\n",
      "Insira o nome do(a) aluno(a):João\n",
      "Insira a nota de João:8.5\n",
      "Insira o nome do(a) aluno(a):Maria\n",
      "Insira a nota de Maria:7.6\n",
      "Insira o nome do(a) aluno(a):José\n",
      "Insira a nota de José:8.2\n",
      "Insira o nome do(a) aluno(a):Pedro\n",
      "Insira a nota de Pedro:8.0\n"
     ]
    }
   ],
   "source": [
    "dicionario_notas = dicionario_notas()"
   ]
  },
  {
   "cell_type": "code",
   "execution_count": 13,
   "metadata": {},
   "outputs": [
    {
     "name": "stdout",
     "output_type": "stream",
     "text": [
      "O aluno com a maior nota foi Ana com nota 9\n"
     ]
    }
   ],
   "source": [
    "maior_nota(dicionario_notas)"
   ]
  }
 ],
 "metadata": {
  "kernelspec": {
   "display_name": "Python 3",
   "language": "python",
   "name": "python3"
  },
  "language_info": {
   "codemirror_mode": {
    "name": "ipython",
    "version": 3
   },
   "file_extension": ".py",
   "mimetype": "text/x-python",
   "name": "python",
   "nbconvert_exporter": "python",
   "pygments_lexer": "ipython3",
   "version": "3.8.2"
  }
 },
 "nbformat": 4,
 "nbformat_minor": 4
}
